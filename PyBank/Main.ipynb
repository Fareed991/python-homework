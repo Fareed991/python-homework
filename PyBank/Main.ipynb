{
 "cells": [
  {
   "cell_type": "code",
   "execution_count": 51,
   "metadata": {},
   "outputs": [
    {
     "name": "stdout",
     "output_type": "stream",
     "text": [
      "Financial Analysis\n",
      "-----------------------------\n",
      "Total Months: 86\n",
      "Total: $38382578\n",
      "Average Change: -2315.12\n",
      "Greatest Increase in Profits: Feb-2012 ($1926159)\n",
      "Greatest Decrease in Profits: Sep-2013 ($-2196167)\n"
     ]
    }
   ],
   "source": [
    "from pathlib import Path\n",
    "import csv \n",
    "\n",
    "csvpath = Path('Resources/budget_data.csv')\n",
    "\n",
    "total_months = []\n",
    "total_profit = []\n",
    "monthly_profit_change = []\n",
    "\n",
    "\n",
    "with open(csvpath, 'r') as csvfile:\n",
    "    csvreader = csv.reader(csvfile, delimiter=',')\n",
    "    \n",
    "    csv_header = next(csvreader)\n",
    "\n",
    "    for row in csvreader:\n",
    "        total_months.append(row[0])\n",
    "        total_profit.append(int(row[1]))\n",
    "        \n",
    "        \n",
    "    for x in range(len(total_profit)-1):\n",
    "        monthly_profit_change.append(total_profit[x+1] - total_profit[x])\n",
    "        \n",
    "        \n",
    "max_increase_value = max(monthly_profit_change) \n",
    "max_decrease_value = min(monthly_profit_change)\n",
    "\n",
    "\n",
    "max_increase_month = monthly_profit_change.index(max(monthly_profit_change)) + 1\n",
    "max_decrease_month = monthly_profit_change.index(min(monthly_profit_change)) + 1\n",
    "\n",
    "\n",
    "\n",
    "print(\"Financial Analysis\")\n",
    "print(\"-----------------------------\")\n",
    "print(f\"Total Months: {len(total_months)}\")\n",
    "print(f\"Total: ${sum(total_profit)}\")\n",
    "print(f\"Average Change: {round(sum(monthly_profit_change)/len(monthly_profit_change),2)}\")\n",
    "print(f\"Greatest Increase in Profits: {total_months[max_increase_month]} (${(str(max_increase_value))})\")\n",
    "print(f\"Greatest Decrease in Profits: {total_months[max_decrease_month]} (${(str(max_decrease_value))})\")\n",
    "\n",
    "      \n",
    "\n",
    "    \n",
    "\n",
    "\n",
    "\n",
    "\n"
   ]
  },
  {
   "cell_type": "code",
   "execution_count": 55,
   "metadata": {},
   "outputs": [],
   "source": [
    "        \n",
    "csvpath = Path('Financial_Analysis_summary.txt')\n",
    "\n",
    "with open(csvpath, 'w') as csvfile:\n",
    "    csvfile.write(\"Financial Analysis\\n\")\n",
    "   \n",
    "    csvfile.write(\"------------------------\\n\")\n",
    " \n",
    "    csvfile.write(f\"Total Months: {len(total_months)}\\n\")\n",
    "   \n",
    "    csvfile.write(f\"Total: ${sum(total_profit)}\\n\")\n",
    "   \n",
    "    csvfile.write(f\"Average Change: {round(sum(monthly_profit_change)/len(monthly_profit_change),2)}\\n\")\n",
    " \n",
    "    csvfile.write(f\"Greatest Increase in Profits: {total_months[max_increase_month]} (${(str(max_increase_value))})\\n\")\n",
    "\n",
    "    csvfile.write(f\"Greatest Decrease in Profits: {total_months[max_decrease_month]} (${(str(max_decrease_value))})\\n\")"
   ]
  },
  {
   "cell_type": "code",
   "execution_count": null,
   "metadata": {},
   "outputs": [],
   "source": []
  }
 ],
 "metadata": {
  "kernelspec": {
   "display_name": "Python 3",
   "language": "python",
   "name": "python3"
  },
  "language_info": {
   "codemirror_mode": {
    "name": "ipython",
    "version": 3
   },
   "file_extension": ".py",
   "mimetype": "text/x-python",
   "name": "python",
   "nbconvert_exporter": "python",
   "pygments_lexer": "ipython3",
   "version": "3.8.3"
  }
 },
 "nbformat": 4,
 "nbformat_minor": 4
}
